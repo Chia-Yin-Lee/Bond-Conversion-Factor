{
 "cells": [
  {
   "cell_type": "code",
   "execution_count": 1,
   "id": "97c69989",
   "metadata": {},
   "outputs": [],
   "source": [
    "import math"
   ]
  },
  {
   "cell_type": "code",
   "execution_count": 19,
   "id": "bea8aa23",
   "metadata": {},
   "outputs": [
    {
     "name": "stdout",
     "output_type": "stream",
     "text": [
      "0.7943\n"
     ]
    }
   ],
   "source": [
    "#  The coupon is the actual note coupon rounded to the nearest one-eighth of one percent (rounded up in the case of ties)\n",
    "coupon = 0.045\n",
    "\n",
    "# n is the number of whole years from the first day of the delivery month to the maturity (or call) date of the bond or note\n",
    "n = 29\n",
    "\n",
    "# z is the number of whole months between n and the maturity (or call) date rounded down to the nearest quarter for the 10-Year U.S. Treasury Note\n",
    "z = 3\n",
    "\n",
    "# US, TY, TU, 3YR, FV\n",
    "future_type = 'US'\n",
    "\n",
    "if z < 7:\n",
    "    v = z\n",
    "elif future_type in {\"US\", \"TY\"}:\n",
    "    v = 3\n",
    "elif future_type in {\"TU\", \"3YR\", \"FV\"}:\n",
    "    v = z - 6\n",
    "else:\n",
    "    print('invalid future_type')\n",
    "    \n",
    "try:\n",
    "    a = 1 / (1.03**(v/6))\n",
    "    b = (coupon/2) * (6-v) / 6\n",
    "    c = 1 / (1.03**(2*n)) if z < 7 else 1 / (1.03**(2*n + 1))\n",
    "    d = (coupon/0.06) * (1-c)\n",
    "\n",
    "    factor = a * ((coupon/2) + c + d) - b\n",
    "    factor = round(factor, 4)\n",
    "    print(factor)\n",
    "except:\n",
    "    None"
   ]
  },
  {
   "cell_type": "code",
   "execution_count": null,
   "id": "59664fe2",
   "metadata": {},
   "outputs": [],
   "source": []
  },
  {
   "cell_type": "code",
   "execution_count": null,
   "id": "dc227177",
   "metadata": {},
   "outputs": [],
   "source": []
  },
  {
   "cell_type": "code",
   "execution_count": null,
   "id": "db96e731",
   "metadata": {},
   "outputs": [],
   "source": []
  }
 ],
 "metadata": {
  "kernelspec": {
   "display_name": "Python 3 (ipykernel)",
   "language": "python",
   "name": "python3"
  },
  "language_info": {
   "codemirror_mode": {
    "name": "ipython",
    "version": 3
   },
   "file_extension": ".py",
   "mimetype": "text/x-python",
   "name": "python",
   "nbconvert_exporter": "python",
   "pygments_lexer": "ipython3",
   "version": "3.9.7"
  }
 },
 "nbformat": 4,
 "nbformat_minor": 5
}
