{
 "cells": [
  {
   "cell_type": "code",
   "execution_count": 1,
   "id": "9f44d8aa",
   "metadata": {},
   "outputs": [],
   "source": [
    "import math"
   ]
  },
  {
   "attachments": {},
   "cell_type": "markdown",
   "id": "53b3ad96",
   "metadata": {},
   "source": [
    "- TY, US, and UB indicate, respectively, the 10-Year U.S. Treasury Note futures contract, the classic U.S. Treasury Bond futures contract, and the Ultra U.S. Treasury Bond futures contract.\n",
    "\n",
    "- TU, 3YR, and FV indicate, respectively, the 2-Year U.S. Treasury Note futures contract, the 3-Year U.S. Treasury Note futures contract, and the 5-Year U.S. Treasury Note futures contract."
   ]
  },
  {
   "cell_type": "code",
   "execution_count": 19,
   "id": "e401a72e",
   "metadata": {},
   "outputs": [
    {
     "name": "stdout",
     "output_type": "stream",
     "text": [
      "0.7943\n"
     ]
    }
   ],
   "source": [
    "#  The coupon is the actual note coupon rounded to the nearest one-eighth of one percent (rounded up in the case of ties)\n",
    "coupon = 0.045\n",
    "\n",
    "# n is the number of whole years from the first day of the delivery month to the maturity (or call) date of the bond or note\n",
    "n = 29\n",
    "\n",
    "# z is the number of whole months between n and the maturity (or call) date rounded down to the nearest quarter for the 10-Year U.S. Treasury Note\n",
    "z = 3\n",
    "\n",
    "# US, TY, TU, 3YR, FV\n",
    "future_type = 'US'\n",
    "\n",
    "if z < 7:\n",
    "    v = z\n",
    "elif future_type in {\"US\", \"TY\", \"UB\"}:\n",
    "    v = 3\n",
    "elif future_type in {\"TU\", \"3YR\", \"FV\"}:\n",
    "    v = z - 6\n",
    "else:\n",
    "    print('invalid future_type')\n",
    "    \n",
    "try:\n",
    "    a = 1 / (1.03**(v/6))\n",
    "    b = (coupon/2) * (6-v) / 6\n",
    "    c = 1 / (1.03**(2*n)) if z < 7 else 1 / (1.03**(2*n + 1))\n",
    "    d = (coupon/0.06) * (1-c)\n",
    "\n",
    "    factor = a * ((coupon/2) + c + d) - b\n",
    "    factor = round(factor, 4)\n",
    "    print(factor)\n",
    "except:\n",
    "    None"
   ]
  },
  {
   "cell_type": "code",
   "execution_count": null,
   "id": "82aade24",
   "metadata": {},
   "outputs": [],
   "source": []
  },
  {
   "cell_type": "code",
   "execution_count": null,
   "id": "acc569e0",
   "metadata": {},
   "outputs": [],
   "source": []
  },
  {
   "cell_type": "code",
   "execution_count": null,
   "id": "57729d8b",
   "metadata": {},
   "outputs": [],
   "source": []
  }
 ],
 "metadata": {
  "kernelspec": {
   "display_name": "Python 3 (ipykernel)",
   "language": "python",
   "name": "python3"
  },
  "language_info": {
   "codemirror_mode": {
    "name": "ipython",
    "version": 3
   },
   "file_extension": ".py",
   "mimetype": "text/x-python",
   "name": "python",
   "nbconvert_exporter": "python",
   "pygments_lexer": "ipython3",
   "version": "3.9.7"
  }
 },
 "nbformat": 4,
 "nbformat_minor": 5
}
